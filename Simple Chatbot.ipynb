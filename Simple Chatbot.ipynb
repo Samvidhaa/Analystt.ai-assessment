{
 "cells": [
  {
   "cell_type": "code",
   "execution_count": 1,
   "id": "9bbcfe77",
   "metadata": {},
   "outputs": [
    {
     "name": "stdout",
     "output_type": "stream",
     "text": [
      "Requirement already satisfied: nltk in c:\\users\\samvi\\anaconda3\\lib\\site-packages (3.2.4)\n",
      "Requirement already satisfied: six in c:\\users\\samvi\\anaconda3\\lib\\site-packages (from nltk) (1.16.0)\n",
      "Note: you may need to restart the kernel to use updated packages.\n"
     ]
    },
    {
     "name": "stderr",
     "output_type": "stream",
     "text": [
      "\n",
      "[notice] A new release of pip is available: 23.1.2 -> 24.0\n",
      "[notice] To update, run: python.exe -m pip install --upgrade pip\n"
     ]
    }
   ],
   "source": [
    "pip install nltk"
   ]
  },
  {
   "cell_type": "code",
   "execution_count": 2,
   "id": "345acc3d",
   "metadata": {},
   "outputs": [
    {
     "name": "stdout",
     "output_type": "stream",
     "text": [
      "Hello! I'm a simple chatbot. How can I help you today?\n",
      "You: hi\n",
      "Chatbot: Hi there!\n",
      "You: how are you ?\n",
      "Chatbot: I'm doing well, thank you!\n",
      "You: bye\n",
      "Chatbot: Goodbye!\n"
     ]
    }
   ],
   "source": [
    "import nltk\n",
    "from nltk.chat.util import Chat, reflections\n",
    "\n",
    "# Define pairs of patterns and responses for the chatbot\n",
    "pairs = [\n",
    "    [\n",
    "        r\"hi|hello|hey\",\n",
    "        [\"Hello!\", \"Hi there!\", \"Hey!\"]\n",
    "    ],\n",
    "    [\n",
    "        r\"how are you ?\",\n",
    "        [\"I'm doing well, thank you!\", \"I'm fine, thanks!\"]\n",
    "    ],\n",
    "    [\n",
    "        r\"what is your name ?\",\n",
    "        [\"You can call me Chatbot.\", \"I'm just a simple chatbot.\"]\n",
    "    ],\n",
    "    [\n",
    "        r\"(.*) your name ?\",\n",
    "        [\"You can call me Chatbot.\", \"I'm just a simple chatbot.\"]\n",
    "    ],\n",
    "    [\n",
    "        r\"bye|goodbye\",\n",
    "        [\"Goodbye!\", \"Bye!\", \"Take care!\"]\n",
    "    ],\n",
    "    [\n",
    "        r\"(.*) (hungry|tired|sleepy)\",\n",
    "        [\"I'm just a computer program, I don't experience those feelings.\"]\n",
    "    ],\n",
    "    [\n",
    "        r\"(.*)\",\n",
    "        [\"Sorry, I didn't understand that. Can you please repeat?\", \"I'm not sure I understand.\"]\n",
    "    ]\n",
    "]\n",
    "\n",
    "# Create a chatbot using NLTK's Chat class\n",
    "chatbot = Chat(pairs, reflections)\n",
    "\n",
    "def main():\n",
    "    print(\"Hello! I'm a simple chatbot. How can I help you today?\")\n",
    "    while True:\n",
    "        user_input = input(\"You: \")\n",
    "        response = chatbot.respond(user_input)\n",
    "        print(\"Chatbot:\", response)\n",
    "        if user_input.lower() == 'bye':\n",
    "            break\n",
    "\n",
    "if __name__ == \"__main__\":\n",
    "    main()\n"
   ]
  },
  {
   "cell_type": "code",
   "execution_count": null,
   "id": "bb123e6f",
   "metadata": {},
   "outputs": [],
   "source": []
  }
 ],
 "metadata": {
  "kernelspec": {
   "display_name": "Python 3 (ipykernel)",
   "language": "python",
   "name": "python3"
  },
  "language_info": {
   "codemirror_mode": {
    "name": "ipython",
    "version": 3
   },
   "file_extension": ".py",
   "mimetype": "text/x-python",
   "name": "python",
   "nbconvert_exporter": "python",
   "pygments_lexer": "ipython3",
   "version": "3.9.12"
  }
 },
 "nbformat": 4,
 "nbformat_minor": 5
}

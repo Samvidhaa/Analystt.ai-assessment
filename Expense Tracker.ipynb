{
 "cells": [
  {
   "cell_type": "code",
   "execution_count": 4,
   "id": "b25a60dd",
   "metadata": {},
   "outputs": [
    {
     "name": "stdout",
     "output_type": "stream",
     "text": [
      "Spending Patterns:\n",
      "Groceries: Rs.500\n",
      "Eating Out: Rs.500\n",
      "Shopping: Rs.1000\n"
     ]
    }
   ],
   "source": [
    "class Expense:\n",
    "    def __init__(self, date, amount, category, description=\"\"):\n",
    "        self.date = date\n",
    "        self.amount = amount\n",
    "        self.category = category\n",
    "        self.description = description\n",
    "\n",
    "class ExpenseTracker:\n",
    "    def __init__(self):\n",
    "        self.expenses = []\n",
    "\n",
    "    def add_expense(self, expense):\n",
    "        self.expenses.append(expense)\n",
    "\n",
    "    def categorize_expenses(self):\n",
    "        categories = {}\n",
    "        for expense in self.expenses:\n",
    "            category = expense.category\n",
    "            if category in categories:\n",
    "                categories[category] += expense.amount\n",
    "            else:\n",
    "                categories[category] = expense.amount\n",
    "        return categories\n",
    "\n",
    "    def view_spending_patterns(self):\n",
    "        categories = self.categorize_expenses()\n",
    "        print(\"Spending Patterns:\")\n",
    "        for category, amount in categories.items():\n",
    "            print(f\"{category}: Rs.{amount}\")\n",
    "\n",
    "def main():\n",
    "    expense_tracker = ExpenseTracker()\n",
    "\n",
    "    # Example usage:\n",
    "    expense_tracker.add_expense(Expense(\"2024-02-17\", 500, \"Groceries\"))\n",
    "    expense_tracker.add_expense(Expense(\"2024-02-17\", 300, \"Eating Out\"))\n",
    "    expense_tracker.add_expense(Expense(\"2024-02-16\", 1000, \"Shopping\"))\n",
    "    expense_tracker.add_expense(Expense(\"2024-02-16\", 200, \"Eating Out\"))\n",
    "    \n",
    "    expense_tracker.view_spending_patterns()\n",
    "\n",
    "if __name__ == \"__main__\":\n",
    "    main()\n"
   ]
  },
  {
   "cell_type": "code",
   "execution_count": null,
   "id": "d3fee422",
   "metadata": {},
   "outputs": [],
   "source": []
  }
 ],
 "metadata": {
  "kernelspec": {
   "display_name": "Python 3 (ipykernel)",
   "language": "python",
   "name": "python3"
  },
  "language_info": {
   "codemirror_mode": {
    "name": "ipython",
    "version": 3
   },
   "file_extension": ".py",
   "mimetype": "text/x-python",
   "name": "python",
   "nbconvert_exporter": "python",
   "pygments_lexer": "ipython3",
   "version": "3.9.12"
  }
 },
 "nbformat": 4,
 "nbformat_minor": 5
}
